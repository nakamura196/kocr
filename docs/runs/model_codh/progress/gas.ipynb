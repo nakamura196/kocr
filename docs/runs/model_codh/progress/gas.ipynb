{
 "cells": [
  {
   "cell_type": "code",
   "execution_count": 4,
   "id": "a749c845",
   "metadata": {},
   "outputs": [
    {
     "name": "stderr",
     "output_type": "stream",
     "text": [
      "100%|█████████████████████████████████████████████| 7/7 [00:49<00:00,  7.11s/it]\n"
     ]
    }
   ],
   "source": [
    "import requests\n",
    "import json\n",
    "from tqdm import tqdm\n",
    "\n",
    "gas = \"https://script.google.com/macros/s/AKfycbypPqjCEaOS8mHhJugIccaJyJWKuZLfO6jd5-7Qh6VPXJWQU7pLwMDOxPMLpDMC3eyv2Q/exec?sheet=all\"\n",
    "\n",
    "df = requests.get(gas).json()\n",
    "\n",
    "results = {}\n",
    "\n",
    "for book in tqdm(df):\n",
    "    gas_url = book[\"gas_url\"]\n",
    "    id_book = book[\"id\"]\n",
    "    df_book = requests.get(gas_url).json()\n",
    "    \n",
    "    # print(df_book)\n",
    "    results[id_book] = df_book\n",
    "    \n",
    "with open(\"gas.json\", 'w') as outfile:\n",
    "    json.dump(results, outfile, ensure_ascii=False,\n",
    "    indent=4, sort_keys=True, separators=(',', ': '))"
   ]
  },
  {
   "cell_type": "code",
   "execution_count": null,
   "id": "760d7991",
   "metadata": {},
   "outputs": [],
   "source": []
  }
 ],
 "metadata": {
  "kernelspec": {
   "display_name": "Python 3 (ipykernel)",
   "language": "python",
   "name": "python3"
  },
  "language_info": {
   "codemirror_mode": {
    "name": "ipython",
    "version": 3
   },
   "file_extension": ".py",
   "mimetype": "text/x-python",
   "name": "python",
   "nbconvert_exporter": "python",
   "pygments_lexer": "ipython3",
   "version": "3.9.7"
  }
 },
 "nbformat": 4,
 "nbformat_minor": 5
}
